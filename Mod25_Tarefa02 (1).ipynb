{
  "cells": [
    {
      "cell_type": "markdown",
      "metadata": {
        "id": "mrRrO9sLVGH6"
      },
      "source": [
        "# Cálculo - Tarefa 02\n",
        "\n",
        "1- Calcule de forma numérica a integral da função $x^3$ avaliada entre os pontos $1$ e $2$. Identifique o número de retângulos que você usou.  \n",
        "2- Calcule essa área de forma analítica."
      ]
    },
    {
      "cell_type": "code",
      "execution_count": 1,
      "metadata": {
        "id": "YVEpdlFxVGH8"
      },
      "outputs": [],
      "source": [
        "import pandas as pd\n",
        "import numpy as np\n",
        "import matplotlib.pyplot as plt\n",
        "\n",
        "from matplotlib.animation import FuncAnimation, PillowWriter\n",
        "from IPython.display import HTML\n",
        "import warnings\n",
        "\n",
        "%matplotlib inline"
      ]
    },
    {
      "cell_type": "code",
      "source": [
        "warnings.filterwarnings(\"ignore\")\n",
        "\n",
        "# x ao cubo\n",
        "f = lambda x: x**3\n",
        "\n",
        "def calcula_area(a, b, func, frame_num):\n",
        "    num_bins=frame_num+1 # Quantidade de retângulos\n",
        "    delta = (b-a)/num_bins # largura do retângulo\n",
        "    x_cols = np.linspace(a, b-delta, num_bins)+delta/2 # Divisão do eixo X\n",
        "    y_cols = f(x_cols) # alturas dos retângulos\n",
        "    return sum(delta*y_cols)\n",
        "\n",
        "\n",
        "def animate(n, a=1, b=2, func=f, verdadeiro_valor = 2):\n",
        "\n",
        "    plt.gca()  # Limpa o gráfico anterior para montar o próxim frame\n",
        "    ax = plt.axes(xlim=(a, b), ylim = (0, 10))  # Monta o sistema de eixos\n",
        "\n",
        "    # Plota a função\n",
        "    x = np.linspace(a ,b, 100)\n",
        "    y = f(x)\n",
        "    ax.plot(x, y, '-');\n",
        "\n",
        "    # Define as quebras e as alturas das colunas\n",
        "    num_bins=n+1\n",
        "    delta = (b-a)/num_bins\n",
        "    x_cols = np.linspace(a, b-delta, num_bins)+delta/2\n",
        "    y_cols = f(x_cols)\n",
        "\n",
        "    # plota barras\n",
        "    bar = ax.bar(x_cols, y_cols, alpha=.5, width = delta, edgecolor='blue')\n",
        "\n",
        "    # Área dos retângulos\n",
        "    soma_riemann = calcula_area(a, b, func, n)\n",
        "\n",
        "    # Erro\n",
        "    erro = verdadeiro_valor - soma_riemann\n",
        "    ax.set_title(f'Soma de Riemann = {soma_riemann:.2f} erro = {erro:.4f}')\n",
        "\n",
        "    return bar\n",
        "animate(50);"
      ],
      "metadata": {
        "colab": {
          "base_uri": "https://localhost:8080/",
          "height": 452
        },
        "id": "1yDFA5TrV1v1",
        "outputId": "728d4849-66e9-43c8-a6ad-782ba7496c70"
      },
      "execution_count": 15,
      "outputs": [
        {
          "output_type": "display_data",
          "data": {
            "text/plain": [
              "<Figure size 640x480 with 2 Axes>"
            ],
            "image/png": "[encoded data removed]"
          },
          "metadata": {}
        }
      ]
    },
    {
      "cell_type": "markdown",
      "source": [
        "**Resposta 1:**\n",
        "\n",
        "A Soma de Riemann foi de 3.75. Foram usados 50 retângulos para esse resultado."
      ],
      "metadata": {
        "id": "LI0lMYGSYIHO"
      }
    },
    {
      "cell_type": "markdown",
      "source": [
        "**Reposta 2:**\n",
        "\n",
        "Calculando de forma analítica:\n",
        "\n",
        "A integral de x³ é (x elevado a 4 divido por 4).\n",
        "\n",
        "Então para calcular essa área devemos substituir o valor de 2 e o valor de 1 e diminuir um elemento do outro.\n",
        "\n",
        "(2^4)/4 = 16/4 = 4\n",
        "(1^4)/4 = 0.25\n",
        "\n",
        "4-0.25 = 3.75.\n",
        "\n",
        "Ou seja. A soma de Riemann usando 50 retângulos para o calculo deu o valor correto para a integral.\n"
      ],
      "metadata": {
        "id": "NxEH8qhcYX6d"
      }
    },
    {
      "cell_type": "code",
      "source": [],
      "metadata": {
        "id": "0s4hQ8Z1YdRU"
      },
      "execution_count": 15,
      "outputs": []
    }
  ],
  "metadata": {
    "kernelspec": {
      "display_name": "Python 3",
      "language": "python",
      "name": "python3"
    },
    "language_info": {
      "codemirror_mode": {
        "name": "ipython",
        "version": 3
      },
      "file_extension": ".py",
      "mimetype": "text/x-python",
      "name": "python",
      "nbconvert_exporter": "python",
      "pygments_lexer": "ipython3",
      "version": "3.8.5"
    },
    "toc": {
      "base_numbering": 1,
      "nav_menu": {},
      "number_sections": true,
      "sideBar": true,
      "skip_h1_title": true,
      "title_cell": "Índice",
      "title_sidebar": "Conteúdo",
      "toc_cell": false,
      "toc_position": {},
      "toc_section_display": true,
      "toc_window_display": false
    },
    "varInspector": {
      "cols": {
        "lenName": 16,
        "lenType": 16,
        "lenVar": 40
      },
      "kernels_config": {
        "python": {
          "delete_cmd_postfix": "",
          "delete_cmd_prefix": "del ",
          "library": "var_list.py",
          "varRefreshCmd": "print(var_dic_list())"
        },
        "r": {
          "delete_cmd_postfix": ") ",
          "delete_cmd_prefix": "rm(",
          "library": "var_list.r",
          "varRefreshCmd": "cat(var_dic_list()) "
        }
      },
      "types_to_exclude": [
        "module",
        "function",
        "builtin_function_or_method",
        "instance",
        "_Feature"
      ],
      "window_display": false
    },
    "colab": {
      "provenance": []
    }
  },
  "nbformat": 4,
  "nbformat_minor": 0
}